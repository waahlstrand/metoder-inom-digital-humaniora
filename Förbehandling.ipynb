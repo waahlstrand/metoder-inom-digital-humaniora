{
 "cells": [
  {
   "cell_type": "markdown",
   "metadata": {},
   "source": [
    "\n",
    "# Förbehandling för maskinläsning\n",
    "## Text\n",
    "Vi börjar med någon form av definition av text: En text är en uppsättning *karaktärer*. Karaktärer utgörs av bokstäver, men också symboler som & eller ', och punktuering såsom ., :, -. Även mellanslag, \" \", utgör en karaktär, men den brukar vanligen ha sin egen kategori.\n",
    "\n",
    "En text är vanligtvis uppbyggd av *ord* åtskilda av mellanslag och punktuering. Varje ord i sin tur är en sammansättning *bokstäver*. Gemener och versaler utgör olika karaktärer, det vill säga \"A\" är inte samma karaktär som \"a\". Alfabetet existerar alltså i två uppsättningar.\n",
    "\n",
    "Människan är en tolkningsmässig best som kan tolka text och koppla den till verkliga referenter. Detta görs både genom bokstavering, läsning av enskilda bokstäver för att forma ett ord (för nya begrepp), och symbolisk igenkänning av hela ord och fraser. Vi kan bortse från små och stora bokstäver och automatiskt åtgärda stavfel i text. Stora delar av den mänskliga läsförståelsen är därmed kontextuell och inferentiell. \n",
    "\n",
    "\n",
    "## När datorn skall läsa...\n",
    "En dator har emellertid ingen uppfattning om sin omvärld och kan utan mänsklig hjälp endast memorisera. Den ser ingen betydelseskillnad på punkt och komma, på konsonanter och vokaler eller ens enskilda bokstäver. För datorn är allting bara karaktärer.\n",
    "\n",
    "En betydande konsekvens av maskinens tillkortakommanden är att orden \"Pelle\", \"Pwlle\" och \"pelle\" är fundamentalt olika - de innehåller alla olika karaktärer. Det blir vidare ännu värre, då även \"Pelle.\", \" Pelle \", \"Pelle,\" och \"Pelle:\" är olika med den bokstavstroende maskinens ögon.\n",
    "\n",
    "Detta gäller också språkligt naturliga variationer som böjningar och flektioner - människor identifierar enkelt att *lugn*, *lugna*, *lugnade*, *lugnar*, *lugnande* alla är ord med samma konnotation och nästan samma denotation. Alla dessa variationer är dock orelaterade för maskinen - de innehåller ju inte samma karaktärer. Det är dessutom mindre skillnad i karaktärer mellan *lugn* och *ugn* än *lugn* och *lugnar*, men endast det senare paret är relaterat. Obegripligt, tycker datorn.\n",
    "\n",
    "## Informationsinnehåll\n",
    "Människan har därför ett ansvar att underlätta för maskinen för maskinläsning. Det är därför vanligt att man försöker utvinna så mycket information som möjligt ur en text, och minska antalet variationer. I fallet *lugn-Lugn-lugn.-Lugn.* delar alla orden samma innehållsliga information, och i fallen *lugna-lugnar-lugnade* åtminstone samma grundbetydelse. För en dator utgör dessa varianter en form av brus, mindre avvikelser från den grundläggande betydelsen som har med *lugn* att göra. \n",
    "\n",
    "<div>\n",
    "<img src=\"media/pipeline.png\" width=\"450\"/>\n",
    "</div>\n",
    "\n",
    "\n",
    "## En pipeline för förbehandling\n",
    "Syftet med denna notebook är att ge datorn underlag för att känna igen betydelser i text, inte bara se denna som samlingar av karaktärer. Det är vanligt att text förbehandlas utifrån ett recept, vanligtvis kallat en *pipeline*. Processerna i pipeline kallas ibland *transformer* och utgörs vanligen av\n",
    "\n",
    "- **Punktuering**: Ta bort all form av punktuering i datan (punkt, komma, semikolon, bindestreck, et c.)\n",
    "- **Tokenisering**: Gör om texter till listor av ord, och ta bort alla mellanslag\n",
    "- **Lemmatisering**: Transformera orden till sin oböjda grundform.\n",
    "- **Filtrering**: Filtrering av oönskade ord, exempelvis sökord, lågfrekventa ord, eller väldigt så kallade stoppord.\n",
    "\n",
    "Ordningen på dessa är essentiell, men inte satt i sten - man kan variera ordningen litet beroende på vilket resultat man är ute efter.\n",
    "\n",
    "När en text blivit förbehandlad kan vi gå till nästa steg och representera texten numeriskt."
   ]
  },
  {
   "cell_type": "markdown",
   "metadata": {},
   "source": [
    "Vi börjar med att läsa in bibliotek för vissa funktioner vi behöver"
   ]
  },
  {
   "cell_type": "code",
   "execution_count": 2,
   "metadata": {},
   "outputs": [
    {
     "name": "stderr",
     "output_type": "stream",
     "text": [
      "[nltk_data] Downloading package punkt to /home/vws/nltk_data...\n",
      "[nltk_data]   Package punkt is already up-to-date!\n",
      "[nltk_data] Downloading package wordnet to /home/vws/nltk_data...\n",
      "[nltk_data]   Package wordnet is already up-to-date!\n",
      "[nltk_data] Downloading package stopwords to /home/vws/nltk_data...\n",
      "[nltk_data]   Package stopwords is already up-to-date!\n"
     ]
    }
   ],
   "source": [
    "import course.preprocess"
   ]
  },
  {
   "cell_type": "markdown",
   "metadata": {},
   "source": [
    "## Datan\n",
    "Exemplen i detta moment kommer att vara uteslutande på svenska, men den datan som används kommer dock att vara på engelska. Svenska är i språkteknologiska sammanhang ett lågresursspråk, där det till skillnad från storspråken engelska, spanska, kinesiska, tyska o.s.v. saknas många verktyg. "
   ]
  },
  {
   "cell_type": "code",
   "execution_count": 4,
   "metadata": {},
   "outputs": [
    {
     "data": {
      "text/plain": [
       "\"The definition of the digital humanities is being continually formulated by scholars/practitioners. Since the field is constantly growing and changing, specific definitions can \\n        quickly become outdated or unnecessarily limit future potential.[4] The second volume of Debates \\n        in the Digital Humanities (2016) acknowledges the difficulty in defining the field: 'Along with the \\n        digital archives, quantitative analyses, and tool-building projects that once characterized the \\n        field, DH now encompasses a wide range of methods and practices: visualizations of large image \\n        sets, 3D modeling of historical artifacts, 'born digital' dissertations, hashtag activism and the \\n        analysis thereof, alternate reality games, mobile makerspaces, and more. In what has been called \\n        'big tent' DH, it can at times be difficult to determine with any specificity what, precisely, digital \\n        humanities work entails.'[5] Historically, the digital humanities developed out of humanities computing \\n        and has become associated with other fields, such as humanistic computing, social computing, and media studies. \\n        In concrete terms, the digital humanities embraces a variety of topics, from curating online collections \\n        of primary sources (primarily textual) to the data mining of large cultural data sets to topic modeling. \\n        Digital humanities incorporates both digitized (remediated) and born-digital materials and combines the \\n        methodologies from traditional humanities disciplines (such as rhetoric, history, philosophy, linguistics, \\n        literature, art, archaeology, music, and cultural studies) and social sciences,[6] with tools provided by \\n        computing (such as hypertext, hypermedia, data visualisation, information retrieval, data mining, \\n        statistics, text mining, digital mapping), and digital publishing. Related subfields of digital \\n        humanities have emerged like software studies, platform studies, and critical code studies. Fields \\n        that parallel the digital humanities include new media studies and information science as well as \\n        media theory of composition, game studies, particularly in areas related to digital humanities project \\n        design and production, and cultural analytics.\""
      ]
     },
     "execution_count": 4,
     "metadata": {},
     "output_type": "execute_result"
    }
   ],
   "source": [
    "data = course.preprocess.example()\n",
    "data"
   ]
  },
  {
   "cell_type": "markdown",
   "metadata": {},
   "source": [
    "## Punktuering\n",
    "\n",
    "Punktuering introducerar brus i texten, som beskrivet tidigare: I meningsutbytet\n",
    "\n",
    "- *Hej! Mitt namn är Leia, hur är det?*\n",
    "- *Hej, det är bra, Leia.*\n",
    "\n",
    "kommer alltså (*Hej!*, *Hej,*), (*Leia,*, *Leia.*) och (*det?*, *det*) alla att räknas som olika ord, vilket är oönskat. Punktuering har också relativt hög frekvens och därmed stor inverkan. \n",
    "\n",
    "Genom att ta bort punktuering så försvinner dock också information, syntax, meningsbyggnad, pauser, tilltal och liknande som används av mänskliga läsare. Det är dock värt att observera att punktuering inte är nödvändig för mänsklig läsning - många språk klarar sig med minimal punktuering i skrift.\n",
    "\n",
    "Nedan skript tar bort punktuering, förutom snedstreck, som byts ut mot mellanslag, och bindestreck som byts ut mot understreck. På så vis bevarar vi självständiga ord som separeras av snedstreck (\"smör/margarin\") och namn med bindestreck (\"Jean-Pierre\")."
   ]
  },
  {
   "cell_type": "code",
   "execution_count": 3,
   "metadata": {},
   "outputs": [
    {
     "data": {
      "text/plain": [
       "'The definition of the digital humanities is being continually formulated by scholars practitioners Since the field is constantly growing and changing specific definitions can \\n        quickly become outdated or unnecessarily limit future potential 4  The second volume of Debates \\n        in the Digital Humanities  2016  acknowledges the difficulty in defining the field Along with the \\n        digital archives quantitative analyses and tool_building projects that once characterized the \\n        field DH now encompasses a wide range of methods and practices visualizations of large image \\n        sets 3D modeling of historical artifacts born digital dissertations hashtag activism and the \\n        analysis thereof alternate reality games mobile makerspaces and more In what has been called \\n        big tent DH it can at times be difficult to determine with any specificity what precisely digital \\n        humanities work entails 5  Historically the digital humanities developed out of humanities computing \\n        and has become associated with other fields such as humanistic computing social computing and media studies \\n        In concrete terms the digital humanities embraces a variety of topics from curating online collections \\n        of primary sources  primarily textual  to the data mining of large cultural data sets to topic modeling \\n        Digital humanities incorporates both digitized  remediated  and born_digital materials and combines the \\n        methodologies from traditional humanities disciplines  such as rhetoric history philosophy linguistics \\n        literature art archaeology music and cultural studies  and social sciences 6  with tools provided by \\n        computing  such as hypertext hypermedia data visualisation information retrieval data mining \\n        statistics text mining digital mapping  and digital publishing Related subfields of digital \\n        humanities have emerged like software studies platform studies and critical code studies Fields \\n        that parallel the digital humanities include new media studies and information science as well as \\n        media theory of composition game studies particularly in areas related to digital humanities project \\n        design and production and cultural analytics'"
      ]
     },
     "execution_count": 3,
     "metadata": {},
     "output_type": "execute_result"
    }
   ],
   "source": [
    "data.remove_punctuation()"
   ]
  },
  {
   "cell_type": "markdown",
   "metadata": {},
   "source": [
    "## Tokenisering\n",
    "\n",
    "Tokenisering avser att man delar upp strängar av text i betydelsebärande enheter. Det som vanligtvis avses är att texter delas upp i ord, *lexem*, men det behöver inte vara fallet. Det finns två huvudsakliga typer av tokenisering, som tillåter mer avancerade förfiningar.\n",
    "\n",
    "Tokeniseringsmodeller har mycket gemensamt med vad som kallas *språkmodeller* (eng: *language models*) som försöker kodifiera hur språk genereras matematiskt eller kognitivt. Tänker vi på ordnivå eller på bokstavsnivå?\n",
    "\n",
    "\n",
    "### Ordtokenisering\n",
    "Texten delas upp vid mellanslag, så att varje *token* blir ett ord. En viss fras representeras då inte längre av en text, utan som en unik lista av ordtokens. Se exempelvis\n",
    "\n",
    "```\n",
    "\n",
    "\"Längtan är en lek. När den växer till allvar, kallas den ångest.\" →\n",
    "\n",
    "[\"Längtan\", \"är\", \"en\", \"lek.\", \"När\", \"den\", \"växer\", \"till\", \"allvar,\", \"kallas\", \"den\", \"ångest.\"]\n",
    "\n",
    "\n",
    "```\n",
    "\n",
    "där ``Längtan``, ``lek.`` och så vidare är tokens. Observera att då vi endast delat texten vid mellanslag, så räknas även punktuering in i föregående ord. Av de orsaker vi listade i föregående avsnitt brukar tokenisering alltså föregås av att man tar bort punktueringen.\n",
    "\n",
    "Vad är fördelarna med ordtokenisering? Det finns lingvistiska argument för att stor del av vår förståelse sker på ordnivå, även om vad som faktiskt är ett \"ord\" är väldigt diskutabelt. Det är oavsett otvivelaktigt att ord bär *semantisk information*, de är alltså betydelsebärande. En applikation som är intresserad av att utvinna semantisk information bör alltså lämpligen ha tokenisering på ordnivå. Ett stort tillkortakommande är dock att en sådan tokenisering har mycket kort *räckvidd* - ordtokenisering kan inte representera uttryck som t. ex. partikelverb som *ge upp* och *ge med* eller fasta uttryck som *ge fyr*, där ordet *ge* inte har samma denotation. \n",
    "\n",
    "Man **tappar alltså också mycket information** vid tokenisering.\n",
    "\n",
    "\n",
    "### Karaktärstokenisering\n",
    "Vid karaktärstokenisering delas varje text upp mellan varje karaktär. På samma text som innan erhåller vi alltså\n",
    "\n",
    "```\n",
    "\n",
    "\"Längtan är en lek. När den växer till allvar, kallas den ångest.\" →\n",
    "\n",
    "[\"L\", \"ä\", \"n\", \"g\", \"t\", \"a\", \"n\", \" \", \"e\", \"n\", \" \", \"l\", \"e\", \"k\", \".\", \" \", \"N\", \"ä\", \"r\", \" \", \"d\", \"e\", \"n\", \" \", \"v\", \"ä\", \"x\", \"e\", \"r\", \" \", \"t\", \"i\", \"l\", \"l\", \" \", \"a\", \"l\", \"l\", \"v\", \"a\", \"r\", \",\", \" \", \"k\", \"a\", \"l\", \"l\", \"a\", \"s\", \" \", \"d\", \"e\", \"n\", \" \", \"å\", \"n\", \"g\", \"e\", \"s\", \"t\", \".\"]\n",
    "\n",
    "\n",
    "```\n",
    "\n",
    "där det är viktigt att observera att både mellanslag `` `` och punktuering alltså räknas som karaktärer. I relation till ordtokeniseringen så kan karaktärstokenisering te sig ointuitiv och oanvändbar. Karaktärer bär alltså i allmänhet inte semantisk information (``L`` har ingen betydelse). Den har också mycket sämre räckvidd än ordnivån. Dock innehåller karaktärstokenisering information om frekvensen av vissa tecken, som kan vara väldigt användbart för att exempelvis identifiera en författares stil eller en viss texttyp."
   ]
  },
  {
   "cell_type": "code",
   "execution_count": 4,
   "metadata": {},
   "outputs": [
    {
     "data": {
      "text/plain": [
       "['The', 'definition', 'of', 'the', 'digital', 'humanities', 'is', 'being', 'continually', 'formulated', 'by', 'scholars', 'practitioners', 'Since', 'the', 'field', 'is', 'constantly', 'growing', 'and', 'changing', 'specific', 'definitions', 'can', 'quickly', 'become', 'outdated', 'or', 'unnecessarily', 'limit', 'future', 'potential', '4', 'The', 'second', 'volume', 'of', 'Debates', 'in', 'the', 'Digital', 'Humanities', '2016', 'acknowledges', 'the', 'difficulty', 'in', 'defining', 'the', 'field', 'Along', 'with', 'the', 'digital', 'archives', 'quantitative', 'analyses', 'and', 'tool_building', 'projects', 'that', 'once', 'characterized', 'the', 'field', 'DH', 'now', 'encompasses', 'a', 'wide', 'range', 'of', 'methods', 'and', 'practices', 'visualizations', 'of', 'large', 'image', 'sets', '3D', 'modeling', 'of', 'historical', 'artifacts', 'born', 'digital', 'dissertations', 'hashtag', 'activism', 'and', 'the', 'analysis', 'thereof', 'alternate', 'reality', 'games', 'mobile', 'makerspaces', 'and', 'more', 'In', 'what', 'has', 'been', 'called', 'big', 'tent', 'DH', 'it', 'can', 'at', 'times', 'be', 'difficult', 'to', 'determine', 'with', 'any', 'specificity', 'what', 'precisely', 'digital', 'humanities', 'work', 'entails', '5', 'Historically', 'the', 'digital', 'humanities', 'developed', 'out', 'of', 'humanities', 'computing', 'and', 'has', 'become', 'associated', 'with', 'other', 'fields', 'such', 'as', 'humanistic', 'computing', 'social', 'computing', 'and', 'media', 'studies', 'In', 'concrete', 'terms', 'the', 'digital', 'humanities', 'embraces', 'a', 'variety', 'of', 'topics', 'from', 'curating', 'online', 'collections', 'of', 'primary', 'sources', 'primarily', 'textual', 'to', 'the', 'data', 'mining', 'of', 'large', 'cultural', 'data', 'sets', 'to', 'topic', 'modeling', 'Digital', 'humanities', 'incorporates', 'both', 'digitized', 'remediated', 'and', 'born_digital', 'materials', 'and', 'combines', 'the', 'methodologies', 'from', 'traditional', 'humanities', 'disciplines', 'such', 'as', 'rhetoric', 'history', 'philosophy', 'linguistics', 'literature', 'art', 'archaeology', 'music', 'and', 'cultural', 'studies', 'and', 'social', 'sciences', '6', 'with', 'tools', 'provided', 'by', 'computing', 'such', 'as', 'hypertext', 'hypermedia', 'data', 'visualisation', 'information', 'retrieval', 'data', 'mining', 'statistics', 'text', 'mining', 'digital', 'mapping', 'and', 'digital', 'publishing', 'Related', 'subfields', 'of', 'digital', 'humanities', 'have', 'emerged', 'like', 'software', 'studies', 'platform', 'studies', 'and', 'critical', 'code', 'studies', 'Fields', 'that', 'parallel', 'the', 'digital', 'humanities', 'include', 'new', 'media', 'studies', 'and', 'information', 'science', 'as', 'well', 'as', 'media', 'theory', 'of', 'composition', 'game', 'studies', 'particularly', 'in', 'areas', 'related', 'to', 'digital', 'humanities', 'project', 'design', 'and', 'production', 'and', 'cultural', 'analytics']"
      ]
     },
     "execution_count": 4,
     "metadata": {},
     "output_type": "execute_result"
    }
   ],
   "source": [
    "data.tokenize()"
   ]
  },
  {
   "cell_type": "markdown",
   "metadata": {},
   "source": [
    "## Normalisering\n",
    "Normalisering kan också kallas *kanonisering* och har syftet att transformera texten till en konsekvent kanonform. Detta inbegriper egentligen nästan hela pipelinen för NLP, men vanligtvis åsyftas några specifika transformer. Vanliga normaliseringar är\n",
    "\n",
    "- **Gemenisering**: Alla tokens skrivs med små bokstäver. På detta vis räknas tokens som ``Längta`` och ``längta`` som likadana. Finns det något problem med detta? \n",
    "- **Stavningsnormalisering**: Vanligt i engelska och språk med många sätt att skriva samma sak - tokens skrivs konsekvent enligt en stavning, exempelvis ``colour``/``color``, ``favourize``/``favourise``/``favorize``. Detta är också en nödvändighet i historiska svenska texter, där många ord hade flera giltiga stavningar (t. ex. ``dufva``/``duva``/``dwfa``). Här gäller även att konvertera numeriska uttryck till uttalsmotsvarigheter, som ``200 kr`` till ``tvåhundra kronor``. Det är ofta lättare att transformera de numeriska uttrycken än deras uttal, då de senare kan ha större variation.\n",
    "- **Sammansättningar**: På engelska skrivs sammansatta ord vanligtvis inte med bindestreck eller ihop, utan med mellanslag. Ett exempel är ``data science`` eller ``peanut butter``. Dessa kan då skrivas ihop med ett understreck ``_`` eller liknande behandling för att se till att de behåller sin semantiska information.\n",
    "\n",
    "Detta gäller nästan uteslutande ordtokenisering. I karaktärstokenisering är det oftast tillräckligt att gemenisera tecknen."
   ]
  },
  {
   "cell_type": "code",
   "execution_count": 5,
   "metadata": {},
   "outputs": [
    {
     "data": {
      "text/plain": [
       "['the', 'definition', 'of', 'the', 'digital', 'humanities', 'is', 'being', 'continually', 'formulated', 'by', 'scholars', 'practitioners', 'since', 'the', 'field', 'is', 'constantly', 'growing', 'and', 'changing', 'specific', 'definitions', 'can', 'quickly', 'become', 'outdated', 'or', 'unnecessarily', 'limit', 'future', 'potential', '4', 'the', 'second', 'volume', 'of', 'debates', 'in', 'the', 'digital', 'humanities', '2016', 'acknowledges', 'the', 'difficulty', 'in', 'defining', 'the', 'field', 'along', 'with', 'the', 'digital', 'archives', 'quantitative', 'analyses', 'and', 'tool_building', 'projects', 'that', 'once', 'characterized', 'the', 'field', 'dh', 'now', 'encompasses', 'a', 'wide', 'range', 'of', 'methods', 'and', 'practices', 'visualizations', 'of', 'large', 'image', 'sets', '3d', 'modeling', 'of', 'historical', 'artifacts', 'born', 'digital', 'dissertations', 'hashtag', 'activism', 'and', 'the', 'analysis', 'thereof', 'alternate', 'reality', 'games', 'mobile', 'makerspaces', 'and', 'more', 'in', 'what', 'has', 'been', 'called', 'big', 'tent', 'dh', 'it', 'can', 'at', 'times', 'be', 'difficult', 'to', 'determine', 'with', 'any', 'specificity', 'what', 'precisely', 'digital', 'humanities', 'work', 'entails', '5', 'historically', 'the', 'digital', 'humanities', 'developed', 'out', 'of', 'humanities', 'computing', 'and', 'has', 'become', 'associated', 'with', 'other', 'fields', 'such', 'as', 'humanistic', 'computing', 'social', 'computing', 'and', 'media', 'studies', 'in', 'concrete', 'terms', 'the', 'digital', 'humanities', 'embraces', 'a', 'variety', 'of', 'topics', 'from', 'curating', 'online', 'collections', 'of', 'primary', 'sources', 'primarily', 'textual', 'to', 'the', 'data', 'mining', 'of', 'large', 'cultural', 'data', 'sets', 'to', 'topic', 'modeling', 'digital', 'humanities', 'incorporates', 'both', 'digitized', 'remediated', 'and', 'born_digital', 'materials', 'and', 'combines', 'the', 'methodologies', 'from', 'traditional', 'humanities', 'disciplines', 'such', 'as', 'rhetoric', 'history', 'philosophy', 'linguistics', 'literature', 'art', 'archaeology', 'music', 'and', 'cultural', 'studies', 'and', 'social', 'sciences', '6', 'with', 'tools', 'provided', 'by', 'computing', 'such', 'as', 'hypertext', 'hypermedia', 'data', 'visualisation', 'information', 'retrieval', 'data', 'mining', 'statistics', 'text', 'mining', 'digital', 'mapping', 'and', 'digital', 'publishing', 'related', 'subfields', 'of', 'digital', 'humanities', 'have', 'emerged', 'like', 'software', 'studies', 'platform', 'studies', 'and', 'critical', 'code', 'studies', 'fields', 'that', 'parallel', 'the', 'digital', 'humanities', 'include', 'new', 'media', 'studies', 'and', 'information', 'science', 'as', 'well', 'as', 'media', 'theory', 'of', 'composition', 'game', 'studies', 'particularly', 'in', 'areas', 'related', 'to', 'digital', 'humanities', 'project', 'design', 'and', 'production', 'and', 'cultural', 'analytics']"
      ]
     },
     "execution_count": 5,
     "metadata": {},
     "output_type": "execute_result"
    }
   ],
   "source": [
    "data.to_lower_case()"
   ]
  },
  {
   "cell_type": "code",
   "execution_count": 6,
   "metadata": {},
   "outputs": [
    {
     "data": {
      "text/plain": [
       "['the', 'definition', 'of', 'the', 'digital_humanities', 'is', 'being', 'continually', 'formulated', 'by', 'scholars', 'practitioners', 'since', 'the', 'field', 'is', 'constantly', 'growing', 'and', 'changing', 'specific', 'definitions', 'can', 'quickly', 'become', 'outdated', 'or', 'unnecessarily', 'limit', 'future', 'potential', '4', 'the', 'second', 'volume', 'of', 'debates', 'in', 'the', 'digital_humanities', '2016', 'acknowledges', 'the', 'difficulty', 'in', 'defining', 'the', 'field', 'along', 'with', 'the', 'digital', 'archives', 'quantitative', 'analyses', 'and', 'tool_building', 'projects', 'that', 'once', 'characterized', 'the', 'field', 'dh', 'now', 'encompasses', 'a', 'wide', 'range', 'of', 'methods', 'and', 'practices', 'visualizations', 'of', 'large', 'image', 'sets', '3d', 'modeling', 'of', 'historical', 'artifacts', 'born', 'digital', 'dissertations', 'hashtag', 'activism', 'and', 'the', 'analysis', 'thereof', 'alternate_reality', 'games', 'mobile', 'makerspaces', 'and', 'more', 'in', 'what', 'has', 'been', 'called', 'big', 'tent', 'dh', 'it', 'can', 'at', 'times', 'be', 'difficult', 'to', 'determine', 'with', 'any', 'specificity', 'what', 'precisely', 'digital_humanities', 'work', 'entails', '5', 'historically', 'the', 'digital_humanities', 'developed', 'out', 'of', 'humanities', 'computing', 'and', 'has', 'become', 'associated', 'with', 'other', 'fields', 'such', 'as', 'humanistic', 'computing', 'social', 'computing', 'and', 'media', 'studies', 'in', 'concrete', 'terms', 'the', 'digital_humanities', 'embraces', 'a', 'variety', 'of', 'topics', 'from', 'curating', 'online', 'collections', 'of', 'primary', 'sources', 'primarily', 'textual', 'to', 'the', 'data', 'mining', 'of', 'large', 'cultural', 'data', 'sets', 'to', 'topic_modeling', 'digital_humanities', 'incorporates', 'both', 'digitized', 'remediated', 'and', 'born_digital', 'materials', 'and', 'combines', 'the', 'methodologies', 'from', 'traditional', 'humanities', 'disciplines', 'such', 'as', 'rhetoric', 'history', 'philosophy', 'linguistics', 'literature', 'art', 'archaeology', 'music', 'and', 'cultural', 'studies', 'and', 'social', 'sciences', '6', 'with', 'tools', 'provided', 'by', 'computing', 'such', 'as', 'hypertext', 'hypermedia', 'data', 'visualisation', 'information', 'retrieval', 'data', 'mining', 'statistics', 'text', 'mining', 'digital', 'mapping', 'and', 'digital', 'publishing', 'related', 'subfields', 'of', 'digital_humanities', 'have', 'emerged', 'like', 'software', 'studies', 'platform', 'studies', 'and', 'critical', 'code', 'studies', 'fields', 'that', 'parallel', 'the', 'digital_humanities', 'include', 'new', 'media', 'studies', 'and', 'information', 'science', 'as', 'well', 'as', 'media', 'theory', 'of', 'composition', 'game', 'studies', 'particularly', 'in', 'areas', 'related', 'to', 'digital_humanities', 'project', 'design', 'and', 'production', 'and', 'cultural_analytics']"
      ]
     },
     "execution_count": 6,
     "metadata": {},
     "output_type": "execute_result"
    }
   ],
   "source": [
    "data.add_compounds([('digital', 'humanities'), \n",
    "                    ('alternate', 'reality'), \n",
    "                    ('virtual', 'reality'), \n",
    "                    ('cultural', 'analytics'),\n",
    "                    ('topic', 'modeling')])"
   ]
  },
  {
   "cell_type": "markdown",
   "metadata": {},
   "source": [
    "## Lemmatisering\n",
    "\n",
    "Den kanske mest situationsberoende transformen är *lemmatisering*. I detta steg omvandlas specifikt ordtokens till sina *lemma* (pl. *lemmata*). Ett lemma är vad som brukar kallas ordboksformen av ett ord (ett lexem). Ordboksformen är den oböjda eller oflektionerade formen av ordet. Observera att vissa lexem är homonymer, det vill säga, låter och ser likadana ut, som *en val* och *ett val*. De har olika böjningslexem, och eftersom de har olika betydelse har de separata plats i ordboken. Deras lemma är dock detsamma, nämligen ``val``.\n",
    "\n",
    "- Lexem: ``har``, ``hade``, ``haft``\n",
    "    - Lemma: ``ha``\n",
    "- Lexem: ``lekar``, ``lekarnas``, ``leks``\n",
    "    - Lemma: ``lek``\n",
    "- Lexem: ``leker``, ``lekte``, ``lekande``, ``leks``\n",
    "    - Lemma: ``leka``\n",
    "- Lexem: ``gå``, ``gick``, ``gått``\n",
    "    - Lemma: ``gå``\n",
    "\n",
    "Observera att lemmata är begränsade inom sin ordklass, och inte tar avledningar i beaktande. Trots att ``lek`` <=> ``leka`` har de olika lemma.\n",
    "\n",
    "Lemmatisering är den absolut viktigaste transformen för en maskin. Denna process reducerar ner ``Han går till skolan`` och ``Han gick till skolan`` till ``Han gå till skolan``, och förenar därmed semantiken i båda fraserna. Medan (svensktalande) människor omedelbart känner igen att fraserna beskriver samma situation, så när som på tempus, kan maskiner endast dra den slutsatsen om fraserna har samma tokens.\n",
    "\n",
    "Vad vinner vi? Genom lemmatisering förenar vi olika semantiker till en grundbetydelse som är tolkningsbar för datorn. Emellertid förlorar vi även här information - i ovan gick information om när händelsen skedde förlorad. Vidare kräver lemmatisering en väldigt omfattande referensordbok som kan identifiera lemma, vilket inte finns för alla språk, i synnerhet lågresursspråk.\n",
    "\n",
    "### Alternativ: Stemming\n",
    "\n",
    "Ett annat alternativ till lemmatisering är stemming, som till skillnad från lemmatisering inte kräver en referensordbok. Denna metod hittar istället stammen till ordtokens. Stammen är den (inledande) del av ordet som förblir oförändrad när detta böjs, exempelvis stammen ``jaga`` till ``jagade``, ``jagat``, ``jagas``, eller stammen ``gruv`` till ``gruva``, ``gruvor``, ``gruvornas``.   \n",
    "\n",
    "I ovan fall hade vi istället fått stammarna\n",
    "\n",
    "- Lexem: ``har``, ``hade``, ``haft``\n",
    "    - Stam: ``ha``\n",
    "- Lexem: ``lekar``, ``lekarnas``, ``leks``\n",
    "    - Stam: ``lek``\n",
    "- Lexem: ``leker``, ``lekte``, ``lekande``, ``leks``\n",
    "    - Stam: ``lek``\n",
    "    \n",
    "Detta fungerar utmärkt i språk som använder sig av ändelser, exempelvis germanska språk som svenska och engelska. Men detta är en halvsanning - germanska språk har gott om starka böjningar, såsom i sista exemplet ger flera stammar:\n",
    "\n",
    "- Lexem: ``gå``, ``gick``, ``gått``\n",
    "    - Stam: ``gå``, ``gick``, ``gå``\n",
    "    \n",
    "Det finns många andra språk där detta blir ett fullständigt omöjligt företag, exempelvis arabiska."
   ]
  },
  {
   "cell_type": "code",
   "execution_count": 7,
   "metadata": {},
   "outputs": [
    {
     "data": {
      "text/plain": [
       "['the', 'definition', 'of', 'the', 'digital_humanities', 'is', 'being', 'continually', 'formulated', 'by', 'scholar', 'practitioner', 'since', 'the', 'field', 'is', 'constantly', 'growing', 'and', 'changing', 'specific', 'definition', 'can', 'quickly', 'become', 'outdated', 'or', 'unnecessarily', 'limit', 'future', 'potential', '4', 'the', 'second', 'volume', 'of', 'debate', 'in', 'the', 'digital_humanities', '2016', 'acknowledges', 'the', 'difficulty', 'in', 'defining', 'the', 'field', 'along', 'with', 'the', 'digital', 'archive', 'quantitative', 'analysis', 'and', 'tool_building', 'project', 'that', 'once', 'characterized', 'the', 'field', 'dh', 'now', 'encompasses', 'a', 'wide', 'range', 'of', 'method', 'and', 'practice', 'visualization', 'of', 'large', 'image', 'set', '3d', 'modeling', 'of', 'historical', 'artifact', 'born', 'digital', 'dissertation', 'hashtag', 'activism', 'and', 'the', 'analysis', 'thereof', 'alternate_reality', 'game', 'mobile', 'makerspaces', 'and', 'more', 'in', 'what', 'ha', 'been', 'called', 'big', 'tent', 'dh', 'it', 'can', 'at', 'time', 'be', 'difficult', 'to', 'determine', 'with', 'any', 'specificity', 'what', 'precisely', 'digital_humanities', 'work', 'entail', '5', 'historically', 'the', 'digital_humanities', 'developed', 'out', 'of', 'humanity', 'computing', 'and', 'ha', 'become', 'associated', 'with', 'other', 'field', 'such', 'a', 'humanistic', 'computing', 'social', 'computing', 'and', 'medium', 'study', 'in', 'concrete', 'term', 'the', 'digital_humanities', 'embrace', 'a', 'variety', 'of', 'topic', 'from', 'curating', 'online', 'collection', 'of', 'primary', 'source', 'primarily', 'textual', 'to', 'the', 'data', 'mining', 'of', 'large', 'cultural', 'data', 'set', 'to', 'topic_modeling', 'digital_humanities', 'incorporates', 'both', 'digitized', 'remediated', 'and', 'born_digital', 'material', 'and', 'combine', 'the', 'methodology', 'from', 'traditional', 'humanity', 'discipline', 'such', 'a', 'rhetoric', 'history', 'philosophy', 'linguistics', 'literature', 'art', 'archaeology', 'music', 'and', 'cultural', 'study', 'and', 'social', 'science', '6', 'with', 'tool', 'provided', 'by', 'computing', 'such', 'a', 'hypertext', 'hypermedia', 'data', 'visualisation', 'information', 'retrieval', 'data', 'mining', 'statistic', 'text', 'mining', 'digital', 'mapping', 'and', 'digital', 'publishing', 'related', 'subfields', 'of', 'digital_humanities', 'have', 'emerged', 'like', 'software', 'study', 'platform', 'study', 'and', 'critical', 'code', 'study', 'field', 'that', 'parallel', 'the', 'digital_humanities', 'include', 'new', 'medium', 'study', 'and', 'information', 'science', 'a', 'well', 'a', 'medium', 'theory', 'of', 'composition', 'game', 'study', 'particularly', 'in', 'area', 'related', 'to', 'digital_humanities', 'project', 'design', 'and', 'production', 'and', 'cultural_analytics']"
      ]
     },
     "execution_count": 7,
     "metadata": {},
     "output_type": "execute_result"
    }
   ],
   "source": [
    "data.lemmatize()"
   ]
  },
  {
   "cell_type": "markdown",
   "metadata": {},
   "source": [
    "## Filtrering\n",
    "### Stopp-ord\n",
    "\n",
    "Det vanligtvis slutgiltiga steget utgör att manuellt ta bort ord man som forskare misstänker är högfrekventa men bär väldigt lite semantisk mening. Dessa kallas vanligen *stopp-ord*. På svenska är dessa vanligen så kallade funktionsord, såsom *men*, *att*, *ett*, *en*, *och*. \n",
    "\n",
    "Genom att filtrera bort dessa försöker man minimera hur mycket tid maskinen spenderar på att tolka närmast betydelselöst brus, för att istället koncentrera sig på tokens med större semantisk information. \n",
    "\n",
    "\n",
    "### Lågfrekventa tokens\n",
    "Det är ofta vettigt att ta bort de minst förekommande tokens i texten. Dessa är ofta ord som endast förekommer någon enstaka gång, såsom namn ``Pelle``, ``Andersson``, ``Tapetföretaget AB`` eller facktermer. Motiveringen är att dessa oftast inte *bär* det semantiska innehållet i tillräckligt långa texter, utan istället utgör outliers maskinen kämpar med att förstå. Detta är högst situationsbetingat, och om syftet är att utreda relationer mellan individer i en text, kan sådan filtrering vara olämplig. \n",
    "\n",
    "Vidare är det olämpligt om texterna är särskilt korta (mindre än 1000 ord). Detta då frekvenser inte är stabila för särskilt små antal (jämför en opinionsundersökning på 15 person jämfört med en på 10000 personer).  "
   ]
  },
  {
   "cell_type": "code",
   "execution_count": 8,
   "metadata": {},
   "outputs": [
    {
     "data": {
      "text/plain": [
       "['definition', 'digital_humanities', 'continually', 'formulated', 'scholar', 'practitioner', 'since', 'field', 'constantly', 'growing', 'changing', 'specific', 'definition', 'quickly', 'become', 'outdated', 'unnecessarily', 'limit', 'future', 'potential', '4', 'second', 'volume', 'debate', 'digital_humanities', '2016', 'acknowledges', 'difficulty', 'defining', 'field', 'along', 'digital', 'archive', 'quantitative', 'analysis', 'tool_building', 'project', 'characterized', 'field', 'dh', 'encompasses', 'wide', 'range', 'method', 'practice', 'visualization', 'large', 'image', 'set', '3d', 'modeling', 'historical', 'artifact', 'born', 'digital', 'dissertation', 'hashtag', 'activism', 'analysis', 'thereof', 'alternate_reality', 'game', 'mobile', 'makerspaces', 'ha', 'called', 'big', 'tent', 'dh', 'time', 'difficult', 'determine', 'specificity', 'precisely', 'digital_humanities', 'work', 'entail', '5', 'historically', 'digital_humanities', 'developed', 'humanity', 'computing', 'ha', 'become', 'associated', 'field', 'humanistic', 'computing', 'social', 'computing', 'medium', 'study', 'concrete', 'term', 'digital_humanities', 'embrace', 'variety', 'topic', 'curating', 'online', 'collection', 'primary', 'source', 'primarily', 'textual', 'data', 'mining', 'large', 'cultural', 'data', 'set', 'topic_modeling', 'digital_humanities', 'incorporates', 'digitized', 'remediated', 'born_digital', 'material', 'combine', 'methodology', 'traditional', 'humanity', 'discipline', 'rhetoric', 'history', 'philosophy', 'linguistics', 'literature', 'art', 'archaeology', 'music', 'cultural', 'study', 'social', 'science', '6', 'tool', 'provided', 'computing', 'hypertext', 'hypermedia', 'data', 'visualisation', 'information', 'retrieval', 'data', 'mining', 'statistic', 'text', 'mining', 'digital', 'mapping', 'digital', 'publishing', 'related', 'subfields', 'digital_humanities', 'emerged', 'like', 'software', 'study', 'platform', 'study', 'critical', 'code', 'study', 'field', 'parallel', 'digital_humanities', 'include', 'new', 'medium', 'study', 'information', 'science', 'well', 'medium', 'theory', 'composition', 'game', 'study', 'particularly', 'area', 'related', 'digital_humanities', 'project', 'design', 'production', 'cultural_analytics']"
      ]
     },
     "execution_count": 8,
     "metadata": {},
     "output_type": "execute_result"
    }
   ],
   "source": [
    "data.remove_stopwords(['ha'])"
   ]
  },
  {
   "cell_type": "code",
   "execution_count": 9,
   "metadata": {},
   "outputs": [
    {
     "data": {
      "text/plain": [
       "['definition', 'digital_humanities', 'field', 'definition', 'become', 'digital_humanities', 'field', 'digital', 'analysis', 'project', 'field', 'dh', 'large', 'set', 'digital', 'analysis', 'game', 'ha', 'dh', 'digital_humanities', 'digital_humanities', 'humanity', 'computing', 'ha', 'become', 'field', 'computing', 'social', 'computing', 'medium', 'study', 'digital_humanities', 'data', 'mining', 'large', 'cultural', 'data', 'set', 'digital_humanities', 'humanity', 'cultural', 'study', 'social', 'science', 'computing', 'data', 'information', 'data', 'mining', 'mining', 'digital', 'digital', 'related', 'digital_humanities', 'study', 'study', 'study', 'field', 'digital_humanities', 'medium', 'study', 'information', 'science', 'medium', 'game', 'study', 'related', 'digital_humanities', 'project']"
      ]
     },
     "execution_count": 9,
     "metadata": {},
     "output_type": "execute_result"
    }
   ],
   "source": [
    "data.remove_low_frequency_tokens(frequency=0.01)"
   ]
  },
  {
   "cell_type": "markdown",
   "metadata": {},
   "source": [
    "## Sammanfattningsvis"
   ]
  },
  {
   "cell_type": "code",
   "execution_count": 10,
   "metadata": {},
   "outputs": [],
   "source": [
    "data = (course.example()\n",
    "              .remove_punctuation()\n",
    "              .tokenize()\n",
    "              .to_lower_case()\n",
    "              .add_compounds([('digital', 'humanities'), \n",
    "                    ('alternate', 'reality'), \n",
    "                    ('virtual', 'reality'), \n",
    "                    ('cultural', 'analytics'),\n",
    "                    ('topic', 'modeling')])\n",
    "              .lemmatize()\n",
    "              .remove_stopwords(['ha'])\n",
    "       )"
   ]
  },
  {
   "cell_type": "code",
   "execution_count": null,
   "metadata": {},
   "outputs": [],
   "source": []
  }
 ],
 "metadata": {
  "kernelspec": {
   "display_name": "Python 3",
   "language": "python",
   "name": "python3"
  },
  "language_info": {
   "codemirror_mode": {
    "name": "ipython",
    "version": 3
   },
   "file_extension": ".py",
   "mimetype": "text/x-python",
   "name": "python",
   "nbconvert_exporter": "python",
   "pygments_lexer": "ipython3",
   "version": "3.7.6"
  }
 },
 "nbformat": 4,
 "nbformat_minor": 4
}
